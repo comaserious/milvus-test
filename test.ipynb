{
  "cells": [
    {
      "cell_type": "raw",
      "metadata": {
        "vscode": {
          "languageId": "raw"
        }
      },
      "source": [
        "# Milvus 사용법 완전 가이드\n",
        "\n",
        "이 노트북에서는 Milvus 벡터 데이터베이스의 핵심 기능들을 체계적으로 학습합니다.\n",
        "\n",
        "## 🎯 학습 목표\n",
        "- Milvus 연결 및 컬렉션 생성\n",
        "- 벡터 데이터 삽입 및 인덱싱\n",
        "- 유사도 검색 및 필터링\n",
        "- **데이터 삭제의 특별한 동작 방식 이해**\n",
        "\n",
        "## ⚠️ 중요한 발견\n",
        "**\"삭제했는데 왜 entity 수가 동일하지?\"** 라는 질문에 대한 답변이 포함되어 있습니다!\n"
      ]
    },
    {
      "cell_type": "raw",
      "metadata": {
        "vscode": {
          "languageId": "raw"
        }
      },
      "source": [
        "## 1. 환경 설정 및 연결\n"
      ]
    },
    {
      "cell_type": "code",
      "execution_count": 15,
      "metadata": {},
      "outputs": [
        {
          "name": "stdout",
          "output_type": "stream",
          "text": [
            "✅ Milvus 연결 성공!\n",
            "현재 컬렉션: ['test_collection', 'demo_collection', 'delete_test_collection']\n"
          ]
        }
      ],
      "source": [
        "from pymilvus import MilvusClient, connections, FieldSchema, CollectionSchema, DataType, Collection, utility\n",
        "import numpy as np\n",
        "\n",
        "# Milvus 서버 연결\n",
        "client = MilvusClient(uri=\"http://localhost:19530\")\n",
        "connections.connect(host=\"localhost\", port=\"19530\")\n",
        "\n",
        "print(\"✅ Milvus 연결 성공!\")\n",
        "print(f\"현재 컬렉션: {client.list_collections()}\")\n"
      ]
    },
    {
      "cell_type": "raw",
      "metadata": {
        "vscode": {
          "languageId": "raw"
        }
      },
      "source": [
        "## 2. 컬렉션 생성 (기존 컬렉션 정리)\n"
      ]
    },
    {
      "cell_type": "code",
      "execution_count": 16,
      "metadata": {},
      "outputs": [
        {
          "name": "stdout",
          "output_type": "stream",
          "text": [
            "🗑️ 기존 컬렉션 'delete_test_collection' 삭제됨\n",
            "✅ 컬렉션 'delete_test_collection' 생성 완료!\n"
          ]
        }
      ],
      "source": [
        "# 기존 컬렉션 정리\n",
        "collection_name = \"delete_test_collection\"\n",
        "\n",
        "if collection_name in client.list_collections():\n",
        "    client.drop_collection(collection_name)\n",
        "    print(f\"🗑️ 기존 컬렉션 '{collection_name}' 삭제됨\")\n",
        "\n",
        "# 스키마 정의\n",
        "fields = [\n",
        "    FieldSchema(name=\"id\", dtype=DataType.INT64, is_primary=True, auto_id=True),\n",
        "    FieldSchema(name=\"embedding\", dtype=DataType.FLOAT_VECTOR, dim=128),\n",
        "    FieldSchema(name=\"text\", dtype=DataType.VARCHAR, max_length=200)\n",
        "]\n",
        "\n",
        "schema = CollectionSchema(fields, description=\"삭제 테스트용 컬렉션\")\n",
        "collection = Collection(name=collection_name, schema=schema)\n",
        "\n",
        "print(f\"✅ 컬렉션 '{collection_name}' 생성 완료!\")\n"
      ]
    },
    {
      "cell_type": "raw",
      "metadata": {
        "vscode": {
          "languageId": "raw"
        }
      },
      "source": [
        "## 3. 데이터 삽입 및 인덱싱\n"
      ]
    },
    {
      "cell_type": "code",
      "execution_count": 17,
      "metadata": {},
      "outputs": [
        {
          "name": "stdout",
          "output_type": "stream",
          "text": [
            "✅ 10개 데이터 삽입 완료\n",
            "📊 현재 entity 수: 10\n",
            "🔑 삽입된 ID 범위: 458834835355992333 ~ 458834835355992342\n",
            "✅ 인덱스 생성 및 컬렉션 로드 완료\n"
          ]
        }
      ],
      "source": [
        "# 10개의 테스트 데이터 삽입\n",
        "num_entities = 10\n",
        "embeddings = np.random.random((num_entities, 128)).tolist()\n",
        "texts = [f\"테스트 문서 {i}\" for i in range(num_entities)]\n",
        "\n",
        "# 데이터 삽입 (id는 auto_id=True이므로 제외)\n",
        "data = [embeddings, texts]\n",
        "insert_result = collection.insert(data)\n",
        "collection.flush()\n",
        "\n",
        "print(f\"✅ {len(insert_result.primary_keys)}개 데이터 삽입 완료\")\n",
        "print(f\"📊 현재 entity 수: {collection.num_entities}\")\n",
        "print(f\"🔑 삽입된 ID 범위: {min(insert_result.primary_keys)} ~ {max(insert_result.primary_keys)}\")\n",
        "\n",
        "# 인덱스 생성 및 로드\n",
        "index_params = {\"metric_type\": \"L2\", \"index_type\": \"IVF_FLAT\", \"params\": {\"nlist\": 4}}\n",
        "collection.create_index(\"embedding\", index_params)\n",
        "collection.load()\n",
        "print(\"✅ 인덱스 생성 및 컬렉션 로드 완료\")\n"
      ]
    },
    {
      "cell_type": "raw",
      "metadata": {
        "vscode": {
          "languageId": "raw"
        }
      },
      "source": [
        "## 4. 🔥 데이터 삭제 - 핵심 포인트!\n"
      ]
    },
    {
      "cell_type": "code",
      "execution_count": 18,
      "metadata": {},
      "outputs": [
        {
          "name": "stdout",
          "output_type": "stream",
          "text": [
            "==================================================\n",
            "🎯 삭제 실험 시작!\n",
            "삭제 전 entity 수: 10\n",
            "삭제할 ID들: [458834835355992333, 458834835355992334, 458834835355992335]\n",
            "삭제 후 entity 수: 10\n",
            "==================================================\n",
            "❓ 어라? entity 수가 변하지 않았네요!\n",
            "🔍 이제 진짜 삭제 여부를 확인해보겠습니다...\n"
          ]
        }
      ],
      "source": [
        "# 삭제할 ID 선정 (처음 3개)\n",
        "delete_ids = insert_result.primary_keys[:3]\n",
        "\n",
        "print(\"=\" * 50)\n",
        "print(\"🎯 삭제 실험 시작!\")\n",
        "print(f\"삭제 전 entity 수: {collection.num_entities}\")\n",
        "print(f\"삭제할 ID들: {delete_ids}\")\n",
        "\n",
        "# 삭제 실행\n",
        "collection.delete(expr=f\"id in {delete_ids}\")\n",
        "collection.flush()\n",
        "\n",
        "print(f\"삭제 후 entity 수: {collection.num_entities}\")\n",
        "print(\"=\" * 50)\n",
        "print(\"❓ 어라? entity 수가 변하지 않았네요!\")\n",
        "print(\"🔍 이제 진짜 삭제 여부를 확인해보겠습니다...\")\n"
      ]
    },
    {
      "cell_type": "code",
      "execution_count": 19,
      "metadata": {},
      "outputs": [
        {
          "name": "stdout",
          "output_type": "stream",
          "text": [
            "1️⃣ query()로 삭제된 데이터 조회 시도:\n",
            "   조회된 데이터: 0개\n",
            "   ✅ 삭제된 데이터는 조회되지 않음! (논리적 삭제 성공)\n",
            "\n",
            "2️⃣ search()로 삭제된 데이터 검색 시도:\n",
            "   검색 결과에서 삭제된 ID 발견: []\n",
            "   ✅ 삭제된 데이터는 검색되지 않음! (논리적 삭제 성공)\n"
          ]
        }
      ],
      "source": [
        "# 1️⃣ 삭제된 데이터 조회 시도\n",
        "print(\"1️⃣ query()로 삭제된 데이터 조회 시도:\")\n",
        "try:\n",
        "    query_result = collection.query(\n",
        "        expr=f\"id in {delete_ids}\",\n",
        "        output_fields=[\"id\", \"text\"]\n",
        "    )\n",
        "    print(f\"   조회된 데이터: {len(query_result)}개\")\n",
        "    if len(query_result) == 0:\n",
        "        print(\"   ✅ 삭제된 데이터는 조회되지 않음! (논리적 삭제 성공)\")\n",
        "    else:\n",
        "        print(f\"   ❌ 아직 {len(query_result)}개가 조회됨\")\n",
        "except Exception as e:\n",
        "    print(f\"   조회 오류: {e}\")\n",
        "\n",
        "print(\"\\n2️⃣ search()로 삭제된 데이터 검색 시도:\")\n",
        "# 삭제된 데이터 중 하나의 벡터로 검색\n",
        "search_vector = [embeddings[0]]  # 첫 번째 벡터 (삭제됨)\n",
        "search_results = collection.search(\n",
        "    data=search_vector,\n",
        "    anns_field=\"embedding\",\n",
        "    param={\"metric_type\": \"L2\", \"params\": {\"nprobe\": 4}},\n",
        "    limit=10,\n",
        "    output_fields=[\"id\", \"text\"]\n",
        ")\n",
        "\n",
        "found_deleted_ids = [hit.id for hit in search_results[0] if hit.id in delete_ids]\n",
        "print(f\"   검색 결과에서 삭제된 ID 발견: {found_deleted_ids}\")\n",
        "if len(found_deleted_ids) == 0:\n",
        "    print(\"   ✅ 삭제된 데이터는 검색되지 않음! (논리적 삭제 성공)\")\n",
        "else:\n",
        "    print(f\"   ❌ 아직 {len(found_deleted_ids)}개가 검색됨\")\n"
      ]
    },
    {
      "cell_type": "raw",
      "metadata": {
        "vscode": {
          "languageId": "raw"
        }
      },
      "source": [
        "## 5. 💡 Milvus 삭제 메커니즘 설명\n",
        "\n",
        "### 🤔 왜 `num_entities`가 변하지 않을까?\n",
        "\n",
        "Milvus는 성능 최적화를 위해 **2단계 삭제 방식**을 사용합니다:\n",
        "\n",
        "1. **논리적 삭제 (Logical Delete)**:\n",
        "   - `delete()` 호출 시 즉시 실행\n",
        "   - 데이터에 \"삭제됨\" 표시만 함\n",
        "   - `query()`와 `search()`에서는 즉시 제외됨\n",
        "   - `num_entities`는 아직 변경되지 않음\n",
        "\n",
        "2. **물리적 삭제 (Physical Delete)**:\n",
        "   - 백그라운드 compaction 프로세스가 담당\n",
        "   - 실제 스토리지에서 데이터 제거\n",
        "   - `num_entities`가 감소함\n",
        "\n",
        "### 🔧 Compaction을 수동으로 실행해보기\n"
      ]
    },
    {
      "cell_type": "code",
      "execution_count": 20,
      "metadata": {},
      "outputs": [
        {
          "name": "stdout",
          "output_type": "stream",
          "text": [
            "3️⃣ Manual Compaction 실행하기:\n",
            "   Compaction 전 entity 수: 10\n",
            "   컬렉션 언로드 완료\n",
            "   ⚠️ Compaction 오류: module 'pymilvus.orm.utility' has no attribute 'compact'\n",
            "   (로컬 환경에서는 정상적인 현상일 수 있습니다)\n",
            "   컬렉션 재로드 완료\n",
            "   Compaction 후 entity 수: 10\n",
            "   ℹ️ 실제 운영환경에서는 시간이 더 걸릴 수 있습니다.\n"
          ]
        }
      ],
      "source": [
        "print(\"3️⃣ Manual Compaction 실행하기:\")\n",
        "print(f\"   Compaction 전 entity 수: {collection.num_entities}\")\n",
        "\n",
        "# 컬렉션 언로드 (compaction을 위해 필요)\n",
        "collection.release()\n",
        "print(\"   컬렉션 언로드 완료\")\n",
        "\n",
        "# Compaction 실행\n",
        "try:\n",
        "    compaction_id = utility.compact(collection_name)\n",
        "    print(f\"   ✅ Compaction 시작됨 (ID: {compaction_id})\")\n",
        "    \n",
        "    # Compaction 상태 확인\n",
        "    import time\n",
        "    for i in range(5):\n",
        "        state = utility.get_compaction_state(compaction_id)\n",
        "        print(f\"   Compaction 상태 ({i+1}/5): {state}\")\n",
        "        if state.state == 2:  # Completed\n",
        "            break\n",
        "        time.sleep(1)\n",
        "        \n",
        "except Exception as e:\n",
        "    print(f\"   ⚠️ Compaction 오류: {e}\")\n",
        "    print(\"   (로컬 환경에서는 정상적인 현상일 수 있습니다)\")\n",
        "\n",
        "# 컬렉션 재로드\n",
        "collection.load()\n",
        "print(\"   컬렉션 재로드 완료\")\n",
        "\n",
        "print(f\"   Compaction 후 entity 수: {collection.num_entities}\")\n",
        "if collection.num_entities < 10:\n",
        "    print(\"   🎉 물리적 삭제 완료! entity 수가 감소했습니다!\")\n",
        "else:\n",
        "    print(\"   ℹ️ 실제 운영환경에서는 시간이 더 걸릴 수 있습니다.\")\n"
      ]
    },
    {
      "cell_type": "code",
      "execution_count": null,
      "metadata": {},
      "outputs": [],
      "source": []
    },
    {
      "cell_type": "raw",
      "metadata": {
        "vscode": {
          "languageId": "raw"
        }
      },
      "source": [
        "## 6. 📋 핵심 요약 및 실무 팁\n",
        "\n",
        "### 🎯 \"삭제했는데 entity 수가 동일한\" 이유\n",
        "\n",
        "1. **정상적인 동작**: Milvus의 설계된 동작 방식입니다\n",
        "2. **논리적 삭제**: 데이터는 즉시 사용 불가능해집니다 (`query`, `search`에서 제외)\n",
        "3. **물리적 삭제**: 백그라운드에서 실제 스토리지 정리가 진행됩니다\n",
        "\n",
        "### 🛠️ 삭제 확인 방법\n",
        "\n",
        "| 방법 | 즉시 반영 | 설명 |\n",
        "|------|----------|------|\n",
        "| `query()` | ✅ | 삭제된 데이터 조회 안됨 |\n",
        "| `search()` | ✅ | 삭제된 데이터 검색 안됨 |\n",
        "| `num_entities` | ❌ | Compaction 후에만 변경 |\n",
        "\n",
        "### 🚀 실무에서 고려사항\n",
        "\n",
        "- **대용량 삭제**: Compaction 시간이 오래 걸릴 수 있음\n",
        "- **성능 모니터링**: 삭제 후 검색/조회 성능 확인\n",
        "- **스토리지 관리**: `num_entities`로 물리적 정리 상태 모니터링\n"
      ]
    },
    {
      "cell_type": "code",
      "execution_count": 21,
      "metadata": {},
      "outputs": [
        {
          "name": "stdout",
          "output_type": "stream",
          "text": [
            "🎉 Milvus 삭제 메커니즘 학습 완료!\n",
            "\n",
            "💡 배운 내용:\n",
            "- delete() 후 즉시 num_entities가 변하지 않는 것은 정상\n",
            "- query()와 search()로 실제 삭제 여부 확인 가능\n",
            "- 물리적 삭제는 compaction을 통해 백그라운드에서 처리\n",
            "- 실무에서는 논리적 삭제만으로도 충분한 경우가 많음\n"
          ]
        }
      ],
      "source": [
        "# 정리\n",
        "collection.release()\n",
        "connections.disconnect(\"default\")\n",
        "\n",
        "print(\"🎉 Milvus 삭제 메커니즘 학습 완료!\")\n",
        "print(\"\\n💡 배운 내용:\")\n",
        "print(\"- delete() 후 즉시 num_entities가 변하지 않는 것은 정상\")\n",
        "print(\"- query()와 search()로 실제 삭제 여부 확인 가능\")\n",
        "print(\"- 물리적 삭제는 compaction을 통해 백그라운드에서 처리\")\n",
        "print(\"- 실무에서는 논리적 삭제만으로도 충분한 경우가 많음\")\n"
      ]
    },
    {
      "cell_type": "raw",
      "metadata": {
        "vscode": {
          "languageId": "raw"
        }
      },
      "source": [
        "# Milvus 사용법 가이드\n",
        "\n",
        "이 노트북에서는 Milvus 벡터 데이터베이스의 기본적인 사용법을 단계별로 학습합니다.\n",
        "\n",
        "## 목차\n",
        "1. Milvus 클라이언트 연결\n",
        "2. 컬렉션 스키마 정의\n",
        "3. 컬렉션 생성\n",
        "4. 데이터 삽입\n",
        "5. 인덱스 생성\n",
        "6. 벡터 검색\n",
        "7. 데이터 삭제\n"
      ]
    },
    {
      "cell_type": "raw",
      "metadata": {
        "vscode": {
          "languageId": "raw"
        }
      },
      "source": [
        "## 1. Milvus 클라이언트 연결\n",
        "\n",
        "먼저 Milvus 서버에 연결합니다. `docker-compose.yml`을 통해 Milvus가 실행 중이어야 합니다.\n"
      ]
    },
    {
      "cell_type": "code",
      "execution_count": 22,
      "metadata": {},
      "outputs": [
        {
          "name": "stdout",
          "output_type": "stream",
          "text": [
            "Milvus 연결 성공!\n",
            "현재 컬렉션 목록: ['test_collection', 'demo_collection', 'delete_test_collection']\n"
          ]
        }
      ],
      "source": [
        "from pymilvus import MilvusClient, connections\n",
        "import numpy as np\n",
        "\n",
        "# MilvusClient를 사용한 연결 (간단한 방법)\n",
        "client = MilvusClient(uri=\"http://localhost:19530\")\n",
        "\n",
        "# connections를 사용한 연결 (고급 기능 사용 시)\n",
        "connections.connect(host=\"localhost\", port=\"19530\")\n",
        "\n",
        "print(\"Milvus 연결 성공!\")\n",
        "print(f\"현재 컬렉션 목록: {client.list_collections()}\")\n"
      ]
    },
    {
      "cell_type": "raw",
      "metadata": {
        "vscode": {
          "languageId": "raw"
        }
      },
      "source": [
        "## 2. 컬렉션 스키마 정의\n",
        "\n",
        "벡터 데이터를 저장할 컬렉션의 구조를 정의합니다. 각 필드의 데이터 타입과 속성을 설정합니다.\n"
      ]
    },
    {
      "cell_type": "code",
      "execution_count": 3,
      "metadata": {},
      "outputs": [
        {
          "name": "stdout",
          "output_type": "stream",
          "text": [
            "스키마 정의 완료!\n",
            "- id: 5 (dim: None)\n",
            "- embedding: 101 (dim: 128)\n",
            "- text: 21 (dim: None)\n",
            "- category: 21 (dim: None)\n"
          ]
        }
      ],
      "source": [
        "from pymilvus import FieldSchema, CollectionSchema, DataType\n",
        "\n",
        "# 필드 정의\n",
        "fields = [\n",
        "    # id 필드: 기본키, 자동생성\n",
        "    FieldSchema(name=\"id\", dtype=DataType.INT64, is_primary=True, auto_id=True),\n",
        "    \n",
        "    # embedding 필드: 128차원 벡터\n",
        "    FieldSchema(name=\"embedding\", dtype=DataType.FLOAT_VECTOR, dim=128),\n",
        "    \n",
        "    # 추가 메타데이터 필드 (선택사항)\n",
        "    FieldSchema(name=\"text\", dtype=DataType.VARCHAR, max_length=500),\n",
        "    FieldSchema(name=\"category\", dtype=DataType.VARCHAR, max_length=100)\n",
        "]\n",
        "\n",
        "# 스키마 생성\n",
        "schema = CollectionSchema(fields, description=\"벡터 검색을 위한 테스트 컬렉션\")\n",
        "\n",
        "print(\"스키마 정의 완료!\")\n",
        "for field in fields:\n",
        "    print(f\"- {field.name}: {field.dtype} (dim: {getattr(field, 'dim', 'N/A')})\")\n"
      ]
    },
    {
      "cell_type": "raw",
      "metadata": {
        "vscode": {
          "languageId": "raw"
        }
      },
      "source": [
        "## 3. 컬렉션 생성\n",
        "\n",
        "정의한 스키마를 사용하여 컬렉션을 생성합니다.\n"
      ]
    },
    {
      "cell_type": "code",
      "execution_count": 4,
      "metadata": {},
      "outputs": [
        {
          "name": "stdout",
          "output_type": "stream",
          "text": [
            "컬렉션 'demo_collection' 생성 완료!\n",
            "현재 컬렉션 목록: ['test_collection', 'demo_collection']\n"
          ]
        }
      ],
      "source": [
        "from pymilvus import Collection\n",
        "\n",
        "# 컬렉션 이름\n",
        "collection_name = \"demo_collection\"\n",
        "\n",
        "# 기존 컬렉션이 있다면 삭제 (테스트용)\n",
        "if collection_name in client.list_collections():\n",
        "    client.drop_collection(collection_name)\n",
        "    print(f\"기존 컬렉션 '{collection_name}' 삭제됨\")\n",
        "\n",
        "# 새 컬렉션 생성\n",
        "collection = Collection(name=collection_name, schema=schema)\n",
        "\n",
        "print(f\"컬렉션 '{collection_name}' 생성 완료!\")\n",
        "print(f\"현재 컬렉션 목록: {client.list_collections()}\")\n"
      ]
    },
    {
      "cell_type": "raw",
      "metadata": {
        "vscode": {
          "languageId": "raw"
        }
      },
      "source": [
        "## 4. 데이터 삽입\n",
        "\n",
        "벡터 데이터와 메타데이터를 컬렉션에 삽입합니다. \n",
        "\n",
        "**중요**: `auto_id=True`로 설정된 필드는 데이터 삽입 시 제외해야 합니다.\n"
      ]
    },
    {
      "cell_type": "code",
      "execution_count": 5,
      "metadata": {},
      "outputs": [
        {
          "name": "stdout",
          "output_type": "stream",
          "text": [
            "데이터 삽입 완료! 삽입된 entity 수: 100\n",
            "컬렉션의 총 entity 수: 100\n"
          ]
        }
      ],
      "source": [
        "# 샘플 데이터 생성\n",
        "num_entities = 100\n",
        "\n",
        "# 임의의 128차원 벡터 생성\n",
        "embeddings = np.random.random((num_entities, 128)).tolist()\n",
        "\n",
        "# 텍스트 메타데이터 생성\n",
        "texts = [f\"샘플 텍스트 {i}\" for i in range(num_entities)]\n",
        "\n",
        "# 카테고리 메타데이터 생성\n",
        "categories = [f\"category_{i % 5}\" for i in range(num_entities)]\n",
        "\n",
        "# 데이터 삽입 (id 필드는 auto_id=True이므로 제외)\n",
        "data = [\n",
        "    embeddings,  # embedding 필드\n",
        "    texts,       # text 필드\n",
        "    categories   # category 필드\n",
        "]\n",
        "\n",
        "# 데이터 삽입 실행\n",
        "insert_result = collection.insert(data)\n",
        "print(f\"데이터 삽입 완료! 삽입된 entity 수: {len(insert_result.primary_keys)}\")\n",
        "\n",
        "# flush를 통해 데이터를 디스크에 저장\n",
        "collection.flush()\n",
        "print(f\"컬렉션의 총 entity 수: {collection.num_entities}\")\n"
      ]
    },
    {
      "cell_type": "raw",
      "metadata": {
        "vscode": {
          "languageId": "raw"
        }
      },
      "source": [
        "## 5. 인덱스 생성\n",
        "\n",
        "벡터 검색 성능을 향상시키기 위해 인덱스를 생성합니다. IVF_FLAT은 정확도와 속도의 균형이 좋은 인덱스입니다.\n"
      ]
    },
    {
      "cell_type": "code",
      "execution_count": 6,
      "metadata": {},
      "outputs": [
        {
          "name": "stdout",
          "output_type": "stream",
          "text": [
            "인덱스 생성 완료!\n",
            "컬렉션 로드 완료! 이제 검색 가능합니다.\n"
          ]
        }
      ],
      "source": [
        "# 인덱스 파라미터 설정\n",
        "index_params = {\n",
        "    \"metric_type\": \"L2\",     # 거리 측정 방식 (L2, IP, COSINE 등)\n",
        "    \"index_type\": \"IVF_FLAT\", # 인덱스 타입\n",
        "    \"params\": {\"nlist\": 128}   # 클러스터 수\n",
        "}\n",
        "\n",
        "# embedding 필드에 인덱스 생성\n",
        "collection.create_index(\"embedding\", index_params)\n",
        "print(\"인덱스 생성 완료!\")\n",
        "\n",
        "# 컬렉션을 메모리에 로드 (검색을 위해 필요)\n",
        "collection.load()\n",
        "print(\"컬렉션 로드 완료! 이제 검색 가능합니다.\")\n"
      ]
    },
    {
      "cell_type": "raw",
      "metadata": {
        "vscode": {
          "languageId": "raw"
        }
      },
      "source": [
        "## 6. 벡터 검색\n",
        "\n",
        "이제 유사한 벡터를 검색해보겠습니다. 쿼리 벡터와 가장 유사한 벡터들을 찾을 수 있습니다.\n"
      ]
    },
    {
      "cell_type": "code",
      "execution_count": 7,
      "metadata": {},
      "outputs": [
        {
          "name": "stdout",
          "output_type": "stream",
          "text": [
            "\n",
            "쿼리 1의 검색 결과:\n",
            "  순위 1: ID=458834835355992231, 거리=15.5446\n",
            "    텍스트: 샘플 텍스트 1\n",
            "    카테고리: category_1\n",
            "  순위 2: ID=458834835355992252, 거리=17.6478\n",
            "    텍스트: 샘플 텍스트 22\n",
            "    카테고리: category_2\n",
            "  순위 3: ID=458834835355992264, 거리=17.7503\n",
            "    텍스트: 샘플 텍스트 34\n",
            "    카테고리: category_4\n",
            "  순위 4: ID=458834835355992327, 거리=18.0765\n",
            "    텍스트: 샘플 텍스트 97\n",
            "    카테고리: category_2\n",
            "  순위 5: ID=458834835355992326, 거리=18.2815\n",
            "    텍스트: 샘플 텍스트 96\n",
            "    카테고리: category_1\n",
            "\n",
            "쿼리 2의 검색 결과:\n",
            "  순위 1: ID=458834835355992231, 거리=15.9250\n",
            "    텍스트: 샘플 텍스트 1\n",
            "    카테고리: category_1\n",
            "  순위 2: ID=458834835355992251, 거리=16.0421\n",
            "    텍스트: 샘플 텍스트 21\n",
            "    카테고리: category_1\n",
            "  순위 3: ID=458834835355992314, 거리=16.1887\n",
            "    텍스트: 샘플 텍스트 84\n",
            "    카테고리: category_4\n",
            "  순위 4: ID=458834835355992320, 거리=16.4747\n",
            "    텍스트: 샘플 텍스트 90\n",
            "    카테고리: category_0\n",
            "  순위 5: ID=458834835355992258, 거리=17.3435\n",
            "    텍스트: 샘플 텍스트 28\n",
            "    카테고리: category_3\n"
          ]
        }
      ],
      "source": [
        "# 검색할 쿼리 벡터 생성\n",
        "search_vectors = np.random.random((2, 128)).tolist()  # 2개의 쿼리 벡터\n",
        "\n",
        "# 검색 파라미터 설정\n",
        "search_params = {\n",
        "    \"metric_type\": \"L2\",\n",
        "    \"params\": {\"nprobe\": 10}  # 검색할 클러스터 수\n",
        "}\n",
        "\n",
        "# 벡터 검색 실행\n",
        "results = collection.search(\n",
        "    data=search_vectors,           # 쿼리 벡터들\n",
        "    anns_field=\"embedding\",        # 검색할 벡터 필드\n",
        "    param=search_params,           # 검색 파라미터\n",
        "    limit=5,                       # 반환할 결과 수\n",
        "    output_fields=[\"text\", \"category\"]  # 함께 반환할 필드들\n",
        ")\n",
        "\n",
        "# 결과 출력\n",
        "for i, result in enumerate(results):\n",
        "    print(f\"\\n쿼리 {i+1}의 검색 결과:\")\n",
        "    for j, hit in enumerate(result):\n",
        "        print(f\"  순위 {j+1}: ID={hit.id}, 거리={hit.distance:.4f}\")\n",
        "        print(f\"    텍스트: {hit.entity.get('text')}\")\n",
        "        print(f\"    카테고리: {hit.entity.get('category')}\")\n"
      ]
    },
    {
      "cell_type": "raw",
      "metadata": {
        "vscode": {
          "languageId": "raw"
        }
      },
      "source": [
        "## 7. 조건부 검색 (필터링)\n",
        "\n",
        "특정 조건을 만족하는 데이터만 검색할 수도 있습니다.\n"
      ]
    },
    {
      "cell_type": "code",
      "execution_count": 8,
      "metadata": {},
      "outputs": [
        {
          "name": "stdout",
          "output_type": "stream",
          "text": [
            "필터링된 검색 결과 (category_0만):\n",
            "  ID=458834835355992300, 거리=19.0270\n",
            "    텍스트: 샘플 텍스트 70\n",
            "    카테고리: category_0\n",
            "  ID=458834835355992240, 거리=19.0566\n",
            "    텍스트: 샘플 텍스트 10\n",
            "    카테고리: category_0\n",
            "  ID=458834835355992230, 거리=19.1706\n",
            "    텍스트: 샘플 텍스트 0\n",
            "    카테고리: category_0\n"
          ]
        }
      ],
      "source": [
        "# 특정 카테고리만 검색\n",
        "filtered_results = collection.search(\n",
        "    data=search_vectors[:1],       # 첫 번째 쿼리 벡터만 사용\n",
        "    anns_field=\"embedding\",\n",
        "    param=search_params,\n",
        "    limit=3,\n",
        "    expr='category == \"category_0\"',  # 필터 조건\n",
        "    output_fields=[\"text\", \"category\"]\n",
        ")\n",
        "\n",
        "print(\"필터링된 검색 결과 (category_0만):\")\n",
        "for hit in filtered_results[0]:\n",
        "    print(f\"  ID={hit.id}, 거리={hit.distance:.4f}\")\n",
        "    print(f\"    텍스트: {hit.entity.get('text')}\")\n",
        "    print(f\"    카테고리: {hit.entity.get('category')}\")\n"
      ]
    },
    {
      "cell_type": "raw",
      "metadata": {
        "vscode": {
          "languageId": "raw"
        }
      },
      "source": [
        "## 8. 데이터 조회 및 관리\n",
        "\n",
        "ID로 특정 데이터를 조회하거나 데이터를 삭제할 수 있습니다.\n"
      ]
    },
    {
      "cell_type": "code",
      "execution_count": 9,
      "metadata": {},
      "outputs": [
        {
          "name": "stdout",
          "output_type": "stream",
          "text": [
            "조회할 ID들: [458834835355992230, 458834835355992231, 458834835355992232, 458834835355992233, 458834835355992234]\n",
            "\n",
            "조회된 데이터 5개:\n",
            "  ID: 458834835355992230\n",
            "  텍스트: 샘플 텍스트 0\n",
            "  카테고리: category_0\n",
            "\n",
            "  ID: 458834835355992231\n",
            "  텍스트: 샘플 텍스트 1\n",
            "  카테고리: category_1\n",
            "\n",
            "  ID: 458834835355992232\n",
            "  텍스트: 샘플 텍스트 2\n",
            "  카테고리: category_2\n",
            "\n",
            "  ID: 458834835355992233\n",
            "  텍스트: 샘플 텍스트 3\n",
            "  카테고리: category_3\n",
            "\n",
            "  ID: 458834835355992234\n",
            "  텍스트: 샘플 텍스트 4\n",
            "  카테고리: category_4\n",
            "\n"
          ]
        }
      ],
      "source": [
        "# 처음 5개 entity의 ID 조회\n",
        "first_ids = insert_result.primary_keys[:5]\n",
        "print(f\"조회할 ID들: {first_ids}\")\n",
        "\n",
        "# ID로 데이터 조회\n",
        "query_results = collection.query(\n",
        "    expr=f\"id in {first_ids}\",\n",
        "    output_fields=[\"id\", \"text\", \"category\"]\n",
        ")\n",
        "\n",
        "print(f\"\\n조회된 데이터 {len(query_results)}개:\")\n",
        "for entity in query_results:\n",
        "    print(f\"  ID: {entity['id']}\")\n",
        "    print(f\"  텍스트: {entity['text']}\")\n",
        "    print(f\"  카테고리: {entity['category']}\")\n",
        "    print()\n"
      ]
    },
    {
      "cell_type": "raw",
      "metadata": {
        "vscode": {
          "languageId": "raw"
        }
      },
      "source": [
        "## 9. 데이터 삭제\n",
        "\n",
        "특정 조건에 맞는 데이터를 삭제할 수 있습니다.\n"
      ]
    },
    {
      "cell_type": "code",
      "execution_count": 11,
      "metadata": {},
      "outputs": [
        {
          "name": "stdout",
          "output_type": "stream",
          "text": [
            "삭제 전 entity 수: 100\n",
            "삭제 후 entity 수: 100\n",
            "삭제된 ID들: [458834835355992230, 458834835355992231]\n"
          ]
        }
      ],
      "source": [
        "# 삭제 전 entity 수 확인\n",
        "print(f\"삭제 전 entity 수: {collection.num_entities}\")\n",
        "\n",
        "# 특정 ID들 삭제\n",
        "delete_ids = first_ids[:2]  # 처음 2개만 삭제\n",
        "print(f\"삭제할 ID들: {delete_ids}\")\n",
        "\n",
        "# 데이터 삭제 실행\n",
        "collection.delete(expr=f\"id in {delete_ids}\")\n",
        "collection.flush()\n",
        "\n",
        "# ⚠️ 중요: num_entities는 즉시 변경되지 않습니다!\n",
        "print(f\"삭제 후 num_entities: {collection.num_entities}\")\n",
        "print(\"※ num_entities는 물리적 삭제 완료 후 변경됩니다.\")\n",
        "\n",
        "# 삭제 확인: 삭제된 데이터 조회 시도\n",
        "try:\n",
        "    deleted_check = collection.query(\n",
        "        expr=f\"id in {delete_ids}\",\n",
        "        output_fields=[\"id\", \"text\"]\n",
        "    )\n",
        "    print(f\"삭제된 데이터 조회 결과: {len(deleted_check)}개 (논리적으로 삭제됨)\")\n",
        "except Exception as e:\n",
        "    print(f\"삭제된 데이터 조회 실패: {e}\")\n",
        "\n",
        "# 실제 삭제 확인: 검색으로 확인\n",
        "search_result = collection.search(\n",
        "    data=[embeddings[0]],  # 첫 번째 벡터로 검색\n",
        "    anns_field=\"embedding\",\n",
        "    param={\"metric_type\": \"L2\", \"params\": {\"nprobe\": 10}},\n",
        "    limit=10,\n",
        "    output_fields=[\"id\", \"text\"]\n",
        ")\n",
        "\n",
        "# 삭제된 ID가 검색 결과에 없는지 확인\n",
        "found_deleted_ids = [hit.id for hit in search_result[0] if hit.id in delete_ids]\n",
        "print(f\"검색 결과에서 삭제된 ID 발견: {found_deleted_ids}\")\n",
        "print(\"→ 빈 리스트면 삭제가 정상적으로 동작한 것입니다.\")\n"
      ]
    },
    {
      "cell_type": "raw",
      "metadata": {
        "vscode": {
          "languageId": "raw"
        }
      },
      "source": [
        "### 🔍 Milvus 삭제 메커니즘 설명\n",
        "\n",
        "**왜 `num_entities`가 즉시 변경되지 않을까요?**\n",
        "\n",
        "1. **논리적 삭제**: Milvus는 먼저 데이터를 논리적으로 삭제 표시만 합니다\n",
        "2. **물리적 삭제**: 백그라운드 compaction 프로세스가 실제 데이터를 제거합니다\n",
        "3. **성능 최적화**: 즉시 물리적 삭제는 성능에 부담을 주므로 지연 처리합니다\n",
        "\n",
        "**삭제 확인 방법**:\n",
        "- `query()`: 삭제된 데이터는 조회되지 않음\n",
        "- `search()`: 삭제된 데이터는 검색 결과에서 제외됨\n",
        "- `num_entities`: 물리적 삭제 완료 후에만 변경됨\n"
      ]
    },
    {
      "cell_type": "code",
      "execution_count": null,
      "metadata": {},
      "outputs": [],
      "source": [
        "# Compaction을 수동으로 실행하여 물리적 삭제 강제 실행\n",
        "print(\"=== Manual Compaction 실행 ===\")\n",
        "\n",
        "# 컬렉션 언로드 (compaction을 위해 필요)\n",
        "collection.release()\n",
        "print(\"컬렉션 언로드 완료\")\n",
        "\n",
        "# Compaction 실행 (물리적 삭제 수행)\n",
        "try:\n",
        "    # utility.compact 사용\n",
        "    from pymilvus import utility\n",
        "    compaction_id = utility.compact(collection_name)\n",
        "    print(f\"Compaction 시작: ID={compaction_id}\")\n",
        "    \n",
        "    # Compaction 상태 확인\n",
        "    state = utility.get_compaction_state(compaction_id)\n",
        "    print(f\"Compaction 상태: {state}\")\n",
        "    \n",
        "    # Compaction 완료 대기 (실제 운영에서는 더 긴 시간 필요)\n",
        "    import time\n",
        "    time.sleep(2)\n",
        "    \n",
        "except Exception as e:\n",
        "    print(f\"Compaction 실행 중 오류: {e}\")\n",
        "\n",
        "# 컬렉션 다시 로드\n",
        "collection.load()\n",
        "print(\"컬렉션 재로드 완료\")\n",
        "\n",
        "# Compaction 후 entity 수 확인\n",
        "print(f\"Compaction 후 entity 수: {collection.num_entities}\")\n",
        "print(\"※ 실제 환경에서는 compaction이 완료되기까지 시간이 걸릴 수 있습니다.\")\n"
      ]
    },
    {
      "cell_type": "raw",
      "metadata": {},
      "source": []
    },
    {
      "cell_type": "raw",
      "metadata": {},
      "source": [
        "## 1. Milvus 클라이언트 연결\n",
        "\n",
        "먼저 Milvus 서버에 연결합니다. `docker-compose.yml`을 통해 Milvus가 실행 중이어야 합니다.\n"
      ]
    },
    {
      "cell_type": "raw",
      "metadata": {},
      "source": [
        "## 1. Milvus 클라이언트 연결\n",
        "\n",
        "먼저 Milvus 서버에 연결합니다. `docker-compose.yml`을 통해 Milvus가 실행 중이어야 합니다.\n"
      ]
    },
    {
      "cell_type": "raw",
      "metadata": {},
      "source": [
        "## 1. Milvus 클라이언트 연결\n",
        "\n",
        "먼저 Milvus 서버에 연결합니다. `docker-compose.yml`을 통해 Milvus가 실행 중이어야 합니다.\n"
      ]
    },
    {
      "cell_type": "raw",
      "metadata": {},
      "source": [
        "## 1. Milvus 클라이언트 연결\n",
        "\n",
        "먼저 Milvus 서버에 연결합니다. `docker-compose.yml`을 통해 Milvus가 실행 중이어야 합니다.\n"
      ]
    },
    {
      "cell_type": "raw",
      "metadata": {},
      "source": [
        "## 1. Milvus 클라이언트 연결\n",
        "\n",
        "먼저 Milvus 서버에 연결합니다. `docker-compose.yml`을 통해 Milvus가 실행 중이어야 합니다.\n"
      ]
    },
    {
      "cell_type": "raw",
      "metadata": {},
      "source": [
        "## 1. Milvus 클라이언트 연결\n",
        "\n",
        "먼저 Milvus 서버에 연결합니다. `docker-compose.yml`을 통해 Milvus가 실행 중이어야 합니다.\n"
      ]
    },
    {
      "cell_type": "raw",
      "metadata": {},
      "source": [
        "## 1. Milvus 클라이언트 연결\n",
        "\n",
        "먼저 Milvus 서버에 연결합니다. `docker-compose.yml`을 통해 Milvus가 실행 중이어야 합니다.\n"
      ]
    },
    {
      "cell_type": "raw",
      "metadata": {},
      "source": [
        "## 1. Milvus 클라이언트 연결\n",
        "\n",
        "먼저 Milvus 서버에 연결합니다. `docker-compose.yml`을 통해 Milvus가 실행 중이어야 합니다.\n"
      ]
    },
    {
      "cell_type": "raw",
      "metadata": {},
      "source": [
        "## 1. Milvus 클라이언트 연결\n",
        "\n",
        "먼저 Milvus 서버에 연결합니다. `docker-compose.yml`을 통해 Milvus가 실행 중이어야 합니다.\n"
      ]
    },
    {
      "cell_type": "raw",
      "metadata": {},
      "source": [
        "## 1. Milvus 클라이언트 연결\n",
        "\n",
        "먼저 Milvus 서버에 연결합니다. `docker-compose.yml`을 통해 Milvus가 실행 중이어야 합니다.\n"
      ]
    },
    {
      "cell_type": "raw",
      "metadata": {},
      "source": [
        "## 1. Milvus 클라이언트 연결\n",
        "\n",
        "먼저 Milvus 서버에 연결합니다. `docker-compose.yml`을 통해 Milvus가 실행 중이어야 합니다.\n"
      ]
    },
    {
      "cell_type": "raw",
      "metadata": {},
      "source": [
        "## 1. Milvus 클라이언트 연결\n",
        "\n",
        "먼저 Milvus 서버에 연결합니다. `docker-compose.yml`을 통해 Milvus가 실행 중이어야 합니다.\n"
      ]
    },
    {
      "cell_type": "raw",
      "metadata": {},
      "source": [
        "## 1. Milvus 클라이언트 연결\n",
        "\n",
        "먼저 Milvus 서버에 연결합니다. `docker-compose.yml`을 통해 Milvus가 실행 중이어야 합니다.\n"
      ]
    },
    {
      "cell_type": "raw",
      "metadata": {},
      "source": [
        "## 1. Milvus 클라이언트 연결\n",
        "\n",
        "먼저 Milvus 서버에 연결합니다. `docker-compose.yml`을 통해 Milvus가 실행 중이어야 합니다.\n"
      ]
    },
    {
      "cell_type": "raw",
      "metadata": {},
      "source": [
        "## 1. Milvus 클라이언트 연결\n",
        "\n",
        "먼저 Milvus 서버에 연결합니다. `docker-compose.yml`을 통해 Milvus가 실행 중이어야 합니다.\n"
      ]
    },
    {
      "cell_type": "raw",
      "metadata": {},
      "source": [
        "## 1. Milvus 클라이언트 연결\n",
        "\n",
        "먼저 Milvus 서버에 연결합니다. `docker-compose.yml`을 통해 Milvus가 실행 중이어야 합니다.\n"
      ]
    },
    {
      "cell_type": "raw",
      "metadata": {},
      "source": [
        "## 1. Milvus 클라이언트 연결\n",
        "\n",
        "먼저 Milvus 서버에 연결합니다. `docker-compose.yml`을 통해 Milvus가 실행 중이어야 합니다.\n"
      ]
    },
    {
      "cell_type": "raw",
      "metadata": {},
      "source": [
        "## 1. Milvus 클라이언트 연결\n",
        "\n",
        "먼저 Milvus 서버에 연결합니다. `docker-compose.yml`을 통해 Milvus가 실행 중이어야 합니다.\n"
      ]
    },
    {
      "cell_type": "raw",
      "metadata": {},
      "source": [
        "## 1. Milvus 클라이언트 연결\n",
        "\n",
        "먼저 Milvus 서버에 연결합니다. `docker-compose.yml`을 통해 Milvus가 실행 중이어야 합니다.\n"
      ]
    },
    {
      "cell_type": "raw",
      "metadata": {
        "vscode": {
          "languageId": "raw"
        }
      },
      "source": [
        "## 10. 리소스 정리\n",
        "\n",
        "작업이 끝나면 컬렉션을 언로드하고 연결을 정리합니다.\n"
      ]
    },
    {
      "cell_type": "code",
      "execution_count": 12,
      "metadata": {},
      "outputs": [
        {
          "name": "stdout",
          "output_type": "stream",
          "text": [
            "컬렉션 언로드 완료!\n",
            "연결 해제 완료!\n",
            "\n",
            "=== Milvus 사용법 튜토리얼 완료 ===\n",
            "주요 배운 내용:\n",
            "1. Milvus 클라이언트 연결\n",
            "2. 컬렉션 스키마 정의 및 생성\n",
            "3. 벡터 데이터 삽입\n",
            "4. 인덱스 생성 및 컬렉션 로드\n",
            "5. 벡터 유사도 검색\n",
            "6. 조건부 필터링 검색\n",
            "7. 데이터 조회 및 삭제\n",
            "8. 리소스 정리\n"
          ]
        }
      ],
      "source": [
        "# 컬렉션 언로드 (메모리에서 제거)\n",
        "collection.release()\n",
        "print(\"컬렉션 언로드 완료!\")\n",
        "\n",
        "# 연결 해제\n",
        "connections.disconnect(\"default\")\n",
        "print(\"연결 해제 완료!\")\n",
        "\n",
        "print(\"\\n=== Milvus 사용법 튜토리얼 완료 ===\")\n",
        "print(\"주요 배운 내용:\")\n",
        "print(\"1. Milvus 클라이언트 연결\")\n",
        "print(\"2. 컬렉션 스키마 정의 및 생성\")\n",
        "print(\"3. 벡터 데이터 삽입\")\n",
        "print(\"4. 인덱스 생성 및 컬렉션 로드\")\n",
        "print(\"5. 벡터 유사도 검색\")\n",
        "print(\"6. 조건부 필터링 검색\")\n",
        "print(\"7. 데이터 조회 및 삭제\")\n",
        "print(\"8. 리소스 정리\")\n"
      ]
    },
    {
      "cell_type": "raw",
      "metadata": {
        "vscode": {
          "languageId": "raw"
        }
      },
      "source": [
        "## 추가 팁 및 참고사항\n",
        "\n",
        "### 주요 데이터 타입\n",
        "- `FLOAT_VECTOR`: 부동소수점 벡터 (가장 일반적)\n",
        "- `BINARY_VECTOR`: 이진 벡터\n",
        "- `INT64`, `INT32`, `INT16`, `INT8`: 정수형\n",
        "- `FLOAT`, `DOUBLE`: 부동소수점\n",
        "- `VARCHAR`: 문자열 (최대 길이 지정 필요)\n",
        "- `BOOL`: 불린값\n",
        "\n",
        "### 인덱스 타입\n",
        "- `FLAT`: 무손실, 작은 데이터셋용\n",
        "- `IVF_FLAT`: 정확도와 속도 균형\n",
        "- `IVF_SQ8`: 메모리 효율적\n",
        "- `IVF_PQ`: 압축률 높음\n",
        "- `HNSW`: 고성능, 메모리 많이 사용\n",
        "\n",
        "### 거리 측정 방식\n",
        "- `L2`: 유클리드 거리\n",
        "- `IP`: 내적 (높을수록 유사)\n",
        "- `COSINE`: 코사인 유사도\n",
        "\n",
        "### 실제 사용 시 고려사항\n",
        "1. 데이터 삽입 후 반드시 `flush()` 호출\n",
        "2. 검색 전에 컬렉션을 `load()` 필요\n",
        "3. 대용량 데이터는 배치 단위로 삽입\n",
        "4. 인덱스 파라미터는 데이터 특성에 맞게 조정\n",
        "\n",
        "### ⚠️ 삭제 관련 중요사항\n",
        "- **논리적 삭제**: `delete()` 호출 시 즉시 논리적으로만 삭제됨\n",
        "- **물리적 삭제**: 백그라운드 compaction에 의해 실제 데이터 제거\n",
        "- **`num_entities`**: 물리적 삭제 완료 후에만 감소 (즉시 변경 X)\n",
        "- **삭제 확인**: `query()`나 `search()`로 삭제 여부 확인 가능\n",
        "- **수동 compaction**: `utility.compact()`로 강제 실행 가능\n",
        "- **성능**: 대량 삭제 시 compaction으로 인한 성능 영향 고려 필요\n"
      ]
    }
  ],
  "metadata": {
    "kernelspec": {
      "display_name": "milvus-note",
      "language": "python",
      "name": "python3"
    },
    "language_info": {
      "codemirror_mode": {
        "name": "ipython",
        "version": 3
      },
      "file_extension": ".py",
      "mimetype": "text/x-python",
      "name": "python",
      "nbconvert_exporter": "python",
      "pygments_lexer": "ipython3",
      "version": "3.11.13"
    }
  },
  "nbformat": 4,
  "nbformat_minor": 2
}
