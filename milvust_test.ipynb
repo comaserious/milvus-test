{
 "cells": [
  {
   "cell_type": "code",
   "execution_count": 2,
   "metadata": {},
   "outputs": [],
   "source": [
    "from pymilvus import MilvusClient\n",
    "\n",
    "client = MilvusClient(uri=\"http://localhost:19530\")\n"
   ]
  },
  {
   "cell_type": "code",
   "execution_count": 16,
   "metadata": {},
   "outputs": [],
   "source": [
    "from pymilvus import connections\n",
    "\n",
    "connections.connect(host=\"localhost\", port=\"19530\")"
   ]
  },
  {
   "cell_type": "code",
   "execution_count": 3,
   "metadata": {},
   "outputs": [
    {
     "name": "stdout",
     "output_type": "stream",
     "text": [
      "[]\n"
     ]
    }
   ],
   "source": [
    "print(client.list_collections()) "
   ]
  },
  {
   "cell_type": "code",
   "execution_count": 5,
   "metadata": {},
   "outputs": [],
   "source": [
    "from pymilvus import FieldSchema, CollectionSchema, DataType\n",
    "\n",
    "# 필드 정의\n",
    "fields = [\n",
    "    FieldSchema(name=\"id\", dtype=DataType.INT64, is_primary=True, auto_id=True),\n",
    "    FieldSchema(name=\"embedding\", dtype=DataType.FLOAT_VECTOR, dim=128)\n",
    "]\n"
   ]
  },
  {
   "cell_type": "code",
   "execution_count": 6,
   "metadata": {},
   "outputs": [],
   "source": [
    "# 스키마 정의\n",
    "schema = CollectionSchema(fields, description=\"Test collection\")"
   ]
  },
  {
   "cell_type": "code",
   "execution_count": 9,
   "metadata": {},
   "outputs": [],
   "source": [
    "# 컬렉션 생성\n",
    "from pymilvus import Collection\n",
    "collection = Collection(name=\"test_collection\", schema=schema)"
   ]
  },
  {
   "cell_type": "code",
   "execution_count": 10,
   "metadata": {},
   "outputs": [
    {
     "name": "stdout",
     "output_type": "stream",
     "text": [
      "['test_collection']\n"
     ]
    }
   ],
   "source": [
    "\n",
    "# 컬렉션 리스트 다시 확인\n",
    "print(client.list_collections())  # ['test_collection']"
   ]
  },
  {
   "cell_type": "code",
   "execution_count": 11,
   "metadata": {},
   "outputs": [],
   "source": [
    "import numpy as np\n"
   ]
  },
  {
   "cell_type": "code",
   "execution_count": 14,
   "metadata": {},
   "outputs": [],
   "source": [
    "# 10개의 임의의 벡터 생성 (128차원)\n",
    "data = [\n",
    "    [i for i in range(10)],  # id 값 (auto_id=True면 이건 생략 가능)\n",
    "    np.random.random((10, 128)).tolist()\n",
    "]"
   ]
  },
  {
   "cell_type": "code",
   "execution_count": 17,
   "metadata": {},
   "outputs": [
    {
     "ename": "DataNotMatchException",
     "evalue": "<DataNotMatchException: (code=1, message=The data doesn't match with schema fields, expect 1 list, got 2)>",
     "output_type": "error",
     "traceback": [
      "\u001b[31m---------------------------------------------------------------------------\u001b[39m",
      "\u001b[31mDataNotMatchException\u001b[39m                     Traceback (most recent call last)",
      "\u001b[36mCell\u001b[39m\u001b[36m \u001b[39m\u001b[32mIn[17]\u001b[39m\u001b[32m, line 1\u001b[39m\n\u001b[32m----> \u001b[39m\u001b[32m1\u001b[39m \u001b[43mcollection\u001b[49m\u001b[43m.\u001b[49m\u001b[43minsert\u001b[49m\u001b[43m(\u001b[49m\u001b[43mdata\u001b[49m\u001b[43m)\u001b[49m\n\u001b[32m      2\u001b[39m \u001b[38;5;28mprint\u001b[39m(\u001b[33m\"\u001b[39m\u001b[33m데이터 입력 완료\u001b[39m\u001b[33m\"\u001b[39m)\n",
      "\u001b[36mFile \u001b[39m\u001b[32mc:\\Users\\COM-NMOIM\\miniforge3\\envs\\milvus-note\\Lib\\site-packages\\pymilvus\\orm\\collection.py:515\u001b[39m, in \u001b[36mCollection.insert\u001b[39m\u001b[34m(self, data, partition_name, timeout, **kwargs)\u001b[39m\n\u001b[32m    505\u001b[39m \u001b[38;5;28;01mif\u001b[39;00m is_row_based(data):\n\u001b[32m    506\u001b[39m     \u001b[38;5;28;01mreturn\u001b[39;00m conn.insert_rows(\n\u001b[32m    507\u001b[39m         collection_name=\u001b[38;5;28mself\u001b[39m._name,\n\u001b[32m    508\u001b[39m         entities=data,\n\u001b[32m   (...)\u001b[39m\u001b[32m    512\u001b[39m         **kwargs,\n\u001b[32m    513\u001b[39m     )\n\u001b[32m--> \u001b[39m\u001b[32m515\u001b[39m \u001b[43mcheck_insert_schema\u001b[49m\u001b[43m(\u001b[49m\u001b[38;5;28;43mself\u001b[39;49m\u001b[43m.\u001b[49m\u001b[43mschema\u001b[49m\u001b[43m,\u001b[49m\u001b[43m \u001b[49m\u001b[43mdata\u001b[49m\u001b[43m)\u001b[49m\n\u001b[32m    516\u001b[39m entities = Prepare.prepare_data(data, \u001b[38;5;28mself\u001b[39m.schema)\n\u001b[32m    517\u001b[39m \u001b[38;5;28;01mreturn\u001b[39;00m conn.batch_insert(\n\u001b[32m    518\u001b[39m     \u001b[38;5;28mself\u001b[39m._name,\n\u001b[32m    519\u001b[39m     entities,\n\u001b[32m   (...)\u001b[39m\u001b[32m    523\u001b[39m     **kwargs,\n\u001b[32m    524\u001b[39m )\n",
      "\u001b[36mFile \u001b[39m\u001b[32mc:\\Users\\COM-NMOIM\\miniforge3\\envs\\milvus-note\\Lib\\site-packages\\pymilvus\\orm\\schema.py:773\u001b[39m, in \u001b[36mcheck_insert_schema\u001b[39m\u001b[34m(schema, data)\u001b[39m\n\u001b[32m    764\u001b[39m     data = data[columns]\n\u001b[32m    766\u001b[39m tmp_fields = \u001b[38;5;28mlist\u001b[39m(\n\u001b[32m    767\u001b[39m     \u001b[38;5;28mfilter\u001b[39m(\n\u001b[32m    768\u001b[39m         \u001b[38;5;28;01mlambda\u001b[39;00m field: \u001b[38;5;129;01mnot\u001b[39;00m (field.is_primary \u001b[38;5;129;01mand\u001b[39;00m field.auto_id) \u001b[38;5;129;01mand\u001b[39;00m \u001b[38;5;129;01mnot\u001b[39;00m field.is_function_output,\n\u001b[32m    769\u001b[39m         schema.fields,\n\u001b[32m    770\u001b[39m     )\n\u001b[32m    771\u001b[39m )\n\u001b[32m--> \u001b[39m\u001b[32m773\u001b[39m \u001b[43m_check_data_schema_cnt\u001b[49m\u001b[43m(\u001b[49m\u001b[43mtmp_fields\u001b[49m\u001b[43m,\u001b[49m\u001b[43m \u001b[49m\u001b[43mdata\u001b[49m\u001b[43m)\u001b[49m\n\u001b[32m    774\u001b[39m _check_insert_data(data)\n",
      "\u001b[36mFile \u001b[39m\u001b[32mc:\\Users\\COM-NMOIM\\miniforge3\\envs\\milvus-note\\Lib\\site-packages\\pymilvus\\orm\\schema.py:745\u001b[39m, in \u001b[36m_check_data_schema_cnt\u001b[39m\u001b[34m(fields, data)\u001b[39m\n\u001b[32m    742\u001b[39m         t_name = \u001b[38;5;28mlist\u001b[39m(data.columns)\n\u001b[32m    743\u001b[39m         message = \u001b[33mf\u001b[39m\u001b[33m\"\u001b[39m\u001b[33mThe fields don\u001b[39m\u001b[33m'\u001b[39m\u001b[33mt match with schema fields, expected: \u001b[39m\u001b[38;5;132;01m{\u001b[39;00mi_name\u001b[38;5;132;01m}\u001b[39;00m\u001b[33m, got \u001b[39m\u001b[38;5;132;01m{\u001b[39;00mt_name\u001b[38;5;132;01m}\u001b[39;00m\u001b[33m\"\u001b[39m\n\u001b[32m--> \u001b[39m\u001b[32m745\u001b[39m     \u001b[38;5;28;01mraise\u001b[39;00m DataNotMatchException(message=message)\n\u001b[32m    747\u001b[39m \u001b[38;5;28;01mif\u001b[39;00m is_dataframe:\n\u001b[32m    748\u001b[39m     \u001b[38;5;28;01mfor\u001b[39;00m x, y \u001b[38;5;129;01min\u001b[39;00m \u001b[38;5;28mzip\u001b[39m(\u001b[38;5;28mlist\u001b[39m(data.columns), fields):\n",
      "\u001b[31mDataNotMatchException\u001b[39m: <DataNotMatchException: (code=1, message=The data doesn't match with schema fields, expect 1 list, got 2)>"
     ]
    }
   ],
   "source": [
    "collection.insert(data)\n",
    "print(\"데이터 입력 완료\")"
   ]
  },
  {
   "cell_type": "code",
   "execution_count": 18,
   "metadata": {},
   "outputs": [
    {
     "name": "stdout",
     "output_type": "stream",
     "text": [
      "데이터 입력 완료\n"
     ]
    }
   ],
   "source": [
    "import numpy as np\n",
    "\n",
    "# 10개의 128차원 벡터만 준비 (id 리스트 빼기!)\n",
    "embeddings = np.random.random((10, 128)).tolist()\n",
    "\n",
    "# insert 파라미터는 [embedding] (리스트 1개만)\n",
    "collection.insert([embeddings])\n",
    "print(\"데이터 입력 완료\")"
   ]
  },
  {
   "cell_type": "code",
   "execution_count": 19,
   "metadata": {},
   "outputs": [
    {
     "name": "stdout",
     "output_type": "stream",
     "text": [
      "0\n"
     ]
    }
   ],
   "source": [
    "print(collection.num_entities)  # 10"
   ]
  }
 ],
 "metadata": {
  "kernelspec": {
   "display_name": "milvus-note",
   "language": "python",
   "name": "python3"
  },
  "language_info": {
   "codemirror_mode": {
    "name": "ipython",
    "version": 3
   },
   "file_extension": ".py",
   "mimetype": "text/x-python",
   "name": "python",
   "nbconvert_exporter": "python",
   "pygments_lexer": "ipython3",
   "version": "3.11.13"
  }
 },
 "nbformat": 4,
 "nbformat_minor": 2
}
